{
 "cells": [
  {
   "cell_type": "code",
   "execution_count": 1,
   "metadata": {},
   "outputs": [
    {
     "name": "stdout",
     "output_type": "stream",
     "text": [
      "Requirement already satisfied: python-dateutil in ./.venv/lib/python3.12/site-packages (from -r cache/requirements.txt (line 1)) (2.9.0.post0)\n",
      "Requirement already satisfied: requests in ./.venv/lib/python3.12/site-packages (from -r cache/requirements.txt (line 2)) (2.32.4)\n",
      "Requirement already satisfied: lxml in ./.venv/lib/python3.12/site-packages (from -r cache/requirements.txt (line 3)) (5.4.0)\n",
      "Requirement already satisfied: six>=1.5 in ./.venv/lib/python3.12/site-packages (from python-dateutil->-r cache/requirements.txt (line 1)) (1.17.0)\n",
      "Requirement already satisfied: charset_normalizer<4,>=2 in ./.venv/lib/python3.12/site-packages (from requests->-r cache/requirements.txt (line 2)) (3.4.2)\n",
      "Requirement already satisfied: idna<4,>=2.5 in ./.venv/lib/python3.12/site-packages (from requests->-r cache/requirements.txt (line 2)) (3.10)\n",
      "Requirement already satisfied: urllib3<3,>=1.21.1 in ./.venv/lib/python3.12/site-packages (from requests->-r cache/requirements.txt (line 2)) (2.4.0)\n",
      "Requirement already satisfied: certifi>=2017.4.17 in ./.venv/lib/python3.12/site-packages (from requests->-r cache/requirements.txt (line 2)) (2025.4.26)\n"
     ]
    }
   ],
   "source": [
    "import os\n",
    "os.chdir('/Users/andrewkillion/readme_profile/AndrewKillion')\n",
    "!pip install -r cache/requirements.txt\n"
   ]
  },
  {
   "cell_type": "code",
   "execution_count": 2,
   "metadata": {},
   "outputs": [
    {
     "name": "stdout",
     "output_type": "stream",
     "text": [
      "58 58 51 30\n"
     ]
    }
   ],
   "source": [
    "\n",
    "import datetime\n",
    "from dateutil import relativedelta\n",
    "import requests\n",
    "import os\n",
    "from lxml import etree\n",
    "import time\n",
    "import hashlib\n",
    "\n",
    "\n",
    "# Load environment variables from .env file\n",
    "#load_dotenv()\n",
    "# Fine-grained personal access token with All Repositories access:\n",
    "# Account permissions: read:Followers, read:Starring, read:Watching\n",
    "# Repository permissions: read:Commit statuses, read:Contents, read:Issues, read:Metadata, read:Pull Requests\n",
    "# Issues and pull requests permissions not needed at the moment, but may be used in the future\n",
    "HEADERS = {'authorization': 'token '+ os.environ['ACCESS_TOKEN']}\n",
    "USER_NAME = os.environ['USER_NAME'] \n",
    "\n",
    "def get_line_character_limit(svg_path, sections):\n",
    "    \"\"\"\n",
    "    Total characters used in a line to aid in the justifying the format and setting the amount of dots\n",
    "    \"\"\"\n",
    "    lengths = []\n",
    "    for section in sections:\n",
    "        tree = etree.parse(svg_path)\n",
    "        root = tree.getroot()\n",
    "        \n",
    "        title = root.xpath(f\".//*[contains(@class, '{section}_title')]\")[0].text\n",
    "        dots = root.xpath(f\".//*[contains(@class, '{section}_dots')]\")[0].text\n",
    "        output= root.xpath(f\".//*[contains(@class, '{section}_output')]\")[0].text\n",
    "\n",
    "        line_length = len(title) + len(dots) + len(output) + 1 # +1 for the colon\n",
    "\n",
    "        lengths.append(line_length)\n",
    "\n",
    "    bio_length = lengths[0]\n",
    "    contact_length = lengths[1]\n",
    "    github_1_length = lengths[2]\n",
    "    github_2_length = lengths[3]\n",
    "\n",
    "\n",
    "    return bio_length, contact_length, github_1_length, github_2_length\n",
    "    \n",
    "\n",
    "sections = ['bio', 'contact', 'github_1', 'github_2']\n",
    "bio, contact, github_1, github_2 = get_line_character_limit('dark_mode.svg', sections)\n",
    "print(bio, contact, github_1, github_2)\n",
    "\n",
    "\n",
    "\n"
   ]
  }
 ],
 "metadata": {
  "kernelspec": {
   "display_name": ".venv",
   "language": "python",
   "name": "python3"
  },
  "language_info": {
   "codemirror_mode": {
    "name": "ipython",
    "version": 3
   },
   "file_extension": ".py",
   "mimetype": "text/x-python",
   "name": "python",
   "nbconvert_exporter": "python",
   "pygments_lexer": "ipython3",
   "version": "3.12.3"
  }
 },
 "nbformat": 4,
 "nbformat_minor": 2
}
